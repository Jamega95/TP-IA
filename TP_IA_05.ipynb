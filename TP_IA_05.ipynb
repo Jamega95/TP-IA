{
  "nbformat": 4,
  "nbformat_minor": 0,
  "metadata": {
    "colab": {
      "provenance": [],
      "authorship_tag": "ABX9TyN4QWyDR1taBNjYXTjMg45B",
      "include_colab_link": true
    },
    "kernelspec": {
      "name": "python3",
      "display_name": "Python 3"
    },
    "language_info": {
      "name": "python"
    }
  },
  "cells": [
    {
      "cell_type": "markdown",
      "metadata": {
        "id": "view-in-github",
        "colab_type": "text"
      },
      "source": [
        "<a href=\"https://colab.research.google.com/github/be-next/TP-IA/blob/main/TP_IA_05.ipynb\" target=\"_parent\"><img src=\"https://colab.research.google.com/assets/colab-badge.svg\" alt=\"Open In Colab\"/></a>"
      ]
    },
    {
      "cell_type": "code",
      "execution_count": null,
      "metadata": {
        "colab": {
          "base_uri": "https://localhost:8080/",
          "height": 35
        },
        "id": "iTSCcC11FHGx",
        "outputId": "e7eb8a83-3151-4232-bc22-0111b063155e"
      },
      "outputs": [
        {
          "output_type": "execute_result",
          "data": {
            "text/plain": [
              "'1.5.3'"
            ],
            "application/vnd.google.colaboratory.intrinsic+json": {
              "type": "string"
            }
          },
          "metadata": {},
          "execution_count": 42
        }
      ],
      "source": [
        "import pandas as pd\n",
        "pd.__version__"
      ]
    },
    {
      "cell_type": "markdown",
      "source": [
        "## Chargement des données dans dataframe Pandas  \n",
        "  \n",
        "  - Dataset d'origine : https://archive.ics.uci.edu/dataset/50/image+segmentation\n",
        "  - Copie sur GitHub : https://raw.githubusercontent.com/be-next/TP-IA/main/datasets/image_segmentation.csv\n"
      ],
      "metadata": {
        "id": "-gUDD3ApHwjM"
      }
    },
    {
      "cell_type": "code",
      "source": [
        "url = \"https://raw.githubusercontent.com/be-next/TP-IA/main/datasets/segmentation_test.csv\"\n",
        "D = pd.read_csv(url)\n",
        "\n",
        "# D.describe()\n",
        "D.info()"
      ],
      "metadata": {
        "colab": {
          "base_uri": "https://localhost:8080/"
        },
        "id": "Cd-2utU8IDu6",
        "outputId": "f8da729e-59b6-4ed8-c9b9-a84dd89fa626"
      },
      "execution_count": null,
      "outputs": [
        {
          "output_type": "stream",
          "name": "stdout",
          "text": [
            "<class 'pandas.core.frame.DataFrame'>\n",
            "RangeIndex: 2100 entries, 0 to 2099\n",
            "Data columns (total 20 columns):\n",
            " #   Column                Non-Null Count  Dtype  \n",
            "---  ------                --------------  -----  \n",
            " 0   CLASS                 2100 non-null   object \n",
            " 1   REGION-CENTROID-COL   2100 non-null   float64\n",
            " 2   REGION-CENTROID-ROW   2100 non-null   float64\n",
            " 3   REGION-PIXEL-COUNT    2100 non-null   int64  \n",
            " 4   SHORT-LINE-DENSITY-5  2100 non-null   float64\n",
            " 5   SHORT-LINE-DENSITY-2  2100 non-null   float64\n",
            " 6   VEDGE-MEAN            2100 non-null   float64\n",
            " 7   VEDGE-SD              2100 non-null   float64\n",
            " 8   HEDGE-MEAN            2100 non-null   float64\n",
            " 9   HEDGE-SD              2100 non-null   float64\n",
            " 10  INTENSITY-MEAN        2100 non-null   float64\n",
            " 11  RAWRED-MEAN           2100 non-null   float64\n",
            " 12  RAWBLUE-MEAN          2100 non-null   float64\n",
            " 13  RAWGREEN-MEAN         2100 non-null   float64\n",
            " 14  EXRED-MEAN            2100 non-null   float64\n",
            " 15  EXBLUE-MEAN           2100 non-null   float64\n",
            " 16  EXGREEN-MEAN          2100 non-null   float64\n",
            " 17  VALUE-MEAN            2100 non-null   float64\n",
            " 18  SATURATION-MEAN       2100 non-null   float64\n",
            " 19  HUE-MEAN              2100 non-null   float64\n",
            "dtypes: float64(18), int64(1), object(1)\n",
            "memory usage: 328.2+ KB\n"
          ]
        }
      ]
    },
    {
      "cell_type": "code",
      "source": [
        "D['CLASS'].value_counts()"
      ],
      "metadata": {
        "colab": {
          "base_uri": "https://localhost:8080/"
        },
        "id": "lJXQgqSPOJE-",
        "outputId": "7ad6f1d5-2ece-4c21-8b13-073a25c74baf"
      },
      "execution_count": null,
      "outputs": [
        {
          "output_type": "execute_result",
          "data": {
            "text/plain": [
              "GRASS        300\n",
              "PATH         300\n",
              "WINDOW       300\n",
              "CEMENT       300\n",
              "FOLIAGE      300\n",
              "SKY          300\n",
              "BRICKFACE    300\n",
              "Name: CLASS, dtype: int64"
            ]
          },
          "metadata": {},
          "execution_count": 36
        }
      ]
    },
    {
      "cell_type": "code",
      "source": [
        "X = D[D.columns[1:]]\n",
        "# X.info()\n",
        "X.shape"
      ],
      "metadata": {
        "colab": {
          "base_uri": "https://localhost:8080/"
        },
        "id": "6e6PWwtJOfAq",
        "outputId": "4d50a598-e046-4695-83ac-4fefeafcd821"
      },
      "execution_count": null,
      "outputs": [
        {
          "output_type": "execute_result",
          "data": {
            "text/plain": [
              "(2100, 19)"
            ]
          },
          "metadata": {},
          "execution_count": 39
        }
      ]
    },
    {
      "cell_type": "code",
      "source": [
        "y = D['CLASS']\n",
        "y.shape"
      ],
      "metadata": {
        "colab": {
          "base_uri": "https://localhost:8080/"
        },
        "id": "Y1geU_uyPEGX",
        "outputId": "4f7ef600-acbf-4e91-909f-7ed5dde892f2"
      },
      "execution_count": null,
      "outputs": [
        {
          "output_type": "execute_result",
          "data": {
            "text/plain": [
              "(2100,)"
            ]
          },
          "metadata": {},
          "execution_count": 40
        }
      ]
    },
    {
      "cell_type": "code",
      "source": [
        "import sklearn as sk\n",
        "sk.__version__"
      ],
      "metadata": {
        "colab": {
          "base_uri": "https://localhost:8080/",
          "height": 35
        },
        "id": "38Iz15dUUvT6",
        "outputId": "45f37e02-b0c1-4913-8af6-f80ccdd7cb69"
      },
      "execution_count": null,
      "outputs": [
        {
          "output_type": "execute_result",
          "data": {
            "text/plain": [
              "'1.2.2'"
            ],
            "application/vnd.google.colaboratory.intrinsic+json": {
              "type": "string"
            }
          },
          "metadata": {},
          "execution_count": 41
        }
      ]
    },
    {
      "cell_type": "code",
      "source": [
        "from sklearn.model_selection import train_test_split"
      ],
      "metadata": {
        "id": "2BMf_ou6XybG"
      },
      "execution_count": null,
      "outputs": []
    },
    {
      "cell_type": "code",
      "source": [
        "X_train, X_test, y_train, y_test = train_test_split(X, y, train_size=1310, random_state=12345)\n",
        "\n",
        "print(X_train.shape)\n",
        "print(X_test.shape)\n",
        "print(y_train.shape)\n",
        "print(y_test.shape)"
      ],
      "metadata": {
        "colab": {
          "base_uri": "https://localhost:8080/"
        },
        "id": "wf2pQezwYNmJ",
        "outputId": "239b4f62-3d5e-498a-d857-f214ff786c15"
      },
      "execution_count": null,
      "outputs": [
        {
          "output_type": "stream",
          "name": "stdout",
          "text": [
            "(1310, 19)\n",
            "(790, 19)\n",
            "(1310,)\n",
            "(790,)\n"
          ]
        }
      ]
    },
    {
      "cell_type": "markdown",
      "source": [
        "convertion des valeurs catégorielles de y_train en un format de données \"one-hot encoding\""
      ],
      "metadata": {
        "id": "973u8wuKcfFb"
      }
    },
    {
      "cell_type": "code",
      "source": [
        "y_train_encoded = pd.get_dummies(y_train)\n",
        "y_train_encoded.head()"
      ],
      "metadata": {
        "colab": {
          "base_uri": "https://localhost:8080/",
          "height": 206
        },
        "id": "hCj57hhGZr2r",
        "outputId": "908408a1-a9a1-43de-f5f7-c555d1323b27"
      },
      "execution_count": null,
      "outputs": [
        {
          "output_type": "execute_result",
          "data": {
            "text/plain": [
              "      BRICKFACE  CEMENT  FOLIAGE  GRASS  PATH  SKY  WINDOW\n",
              "160           0       0        0      0     0    0       1\n",
              "1833          1       0        0      0     0    0       0\n",
              "330           0       1        0      0     0    0       0\n",
              "249           0       1        0      0     0    0       0\n",
              "1437          0       1        0      0     0    0       0"
            ],
            "text/html": [
              "\n",
              "  <div id=\"df-3fb5aa76-6ca9-4bc6-979d-70b68c7e27e1\" class=\"colab-df-container\">\n",
              "    <div>\n",
              "<style scoped>\n",
              "    .dataframe tbody tr th:only-of-type {\n",
              "        vertical-align: middle;\n",
              "    }\n",
              "\n",
              "    .dataframe tbody tr th {\n",
              "        vertical-align: top;\n",
              "    }\n",
              "\n",
              "    .dataframe thead th {\n",
              "        text-align: right;\n",
              "    }\n",
              "</style>\n",
              "<table border=\"1\" class=\"dataframe\">\n",
              "  <thead>\n",
              "    <tr style=\"text-align: right;\">\n",
              "      <th></th>\n",
              "      <th>BRICKFACE</th>\n",
              "      <th>CEMENT</th>\n",
              "      <th>FOLIAGE</th>\n",
              "      <th>GRASS</th>\n",
              "      <th>PATH</th>\n",
              "      <th>SKY</th>\n",
              "      <th>WINDOW</th>\n",
              "    </tr>\n",
              "  </thead>\n",
              "  <tbody>\n",
              "    <tr>\n",
              "      <th>160</th>\n",
              "      <td>0</td>\n",
              "      <td>0</td>\n",
              "      <td>0</td>\n",
              "      <td>0</td>\n",
              "      <td>0</td>\n",
              "      <td>0</td>\n",
              "      <td>1</td>\n",
              "    </tr>\n",
              "    <tr>\n",
              "      <th>1833</th>\n",
              "      <td>1</td>\n",
              "      <td>0</td>\n",
              "      <td>0</td>\n",
              "      <td>0</td>\n",
              "      <td>0</td>\n",
              "      <td>0</td>\n",
              "      <td>0</td>\n",
              "    </tr>\n",
              "    <tr>\n",
              "      <th>330</th>\n",
              "      <td>0</td>\n",
              "      <td>1</td>\n",
              "      <td>0</td>\n",
              "      <td>0</td>\n",
              "      <td>0</td>\n",
              "      <td>0</td>\n",
              "      <td>0</td>\n",
              "    </tr>\n",
              "    <tr>\n",
              "      <th>249</th>\n",
              "      <td>0</td>\n",
              "      <td>1</td>\n",
              "      <td>0</td>\n",
              "      <td>0</td>\n",
              "      <td>0</td>\n",
              "      <td>0</td>\n",
              "      <td>0</td>\n",
              "    </tr>\n",
              "    <tr>\n",
              "      <th>1437</th>\n",
              "      <td>0</td>\n",
              "      <td>1</td>\n",
              "      <td>0</td>\n",
              "      <td>0</td>\n",
              "      <td>0</td>\n",
              "      <td>0</td>\n",
              "      <td>0</td>\n",
              "    </tr>\n",
              "  </tbody>\n",
              "</table>\n",
              "</div>\n",
              "    <div class=\"colab-df-buttons\">\n",
              "\n",
              "  <div class=\"colab-df-container\">\n",
              "    <button class=\"colab-df-convert\" onclick=\"convertToInteractive('df-3fb5aa76-6ca9-4bc6-979d-70b68c7e27e1')\"\n",
              "            title=\"Convert this dataframe to an interactive table.\"\n",
              "            style=\"display:none;\">\n",
              "\n",
              "  <svg xmlns=\"http://www.w3.org/2000/svg\" height=\"24px\" viewBox=\"0 -960 960 960\">\n",
              "    <path d=\"M120-120v-720h720v720H120Zm60-500h600v-160H180v160Zm220 220h160v-160H400v160Zm0 220h160v-160H400v160ZM180-400h160v-160H180v160Zm440 0h160v-160H620v160ZM180-180h160v-160H180v160Zm440 0h160v-160H620v160Z\"/>\n",
              "  </svg>\n",
              "    </button>\n",
              "\n",
              "  <style>\n",
              "    .colab-df-container {\n",
              "      display:flex;\n",
              "      gap: 12px;\n",
              "    }\n",
              "\n",
              "    .colab-df-convert {\n",
              "      background-color: #E8F0FE;\n",
              "      border: none;\n",
              "      border-radius: 50%;\n",
              "      cursor: pointer;\n",
              "      display: none;\n",
              "      fill: #1967D2;\n",
              "      height: 32px;\n",
              "      padding: 0 0 0 0;\n",
              "      width: 32px;\n",
              "    }\n",
              "\n",
              "    .colab-df-convert:hover {\n",
              "      background-color: #E2EBFA;\n",
              "      box-shadow: 0px 1px 2px rgba(60, 64, 67, 0.3), 0px 1px 3px 1px rgba(60, 64, 67, 0.15);\n",
              "      fill: #174EA6;\n",
              "    }\n",
              "\n",
              "    .colab-df-buttons div {\n",
              "      margin-bottom: 4px;\n",
              "    }\n",
              "\n",
              "    [theme=dark] .colab-df-convert {\n",
              "      background-color: #3B4455;\n",
              "      fill: #D2E3FC;\n",
              "    }\n",
              "\n",
              "    [theme=dark] .colab-df-convert:hover {\n",
              "      background-color: #434B5C;\n",
              "      box-shadow: 0px 1px 3px 1px rgba(0, 0, 0, 0.15);\n",
              "      filter: drop-shadow(0px 1px 2px rgba(0, 0, 0, 0.3));\n",
              "      fill: #FFFFFF;\n",
              "    }\n",
              "  </style>\n",
              "\n",
              "    <script>\n",
              "      const buttonEl =\n",
              "        document.querySelector('#df-3fb5aa76-6ca9-4bc6-979d-70b68c7e27e1 button.colab-df-convert');\n",
              "      buttonEl.style.display =\n",
              "        google.colab.kernel.accessAllowed ? 'block' : 'none';\n",
              "\n",
              "      async function convertToInteractive(key) {\n",
              "        const element = document.querySelector('#df-3fb5aa76-6ca9-4bc6-979d-70b68c7e27e1');\n",
              "        const dataTable =\n",
              "          await google.colab.kernel.invokeFunction('convertToInteractive',\n",
              "                                                    [key], {});\n",
              "        if (!dataTable) return;\n",
              "\n",
              "        const docLinkHtml = 'Like what you see? Visit the ' +\n",
              "          '<a target=\"_blank\" href=https://colab.research.google.com/notebooks/data_table.ipynb>data table notebook</a>'\n",
              "          + ' to learn more about interactive tables.';\n",
              "        element.innerHTML = '';\n",
              "        dataTable['output_type'] = 'display_data';\n",
              "        await google.colab.output.renderOutput(dataTable, element);\n",
              "        const docLink = document.createElement('div');\n",
              "        docLink.innerHTML = docLinkHtml;\n",
              "        element.appendChild(docLink);\n",
              "      }\n",
              "    </script>\n",
              "  </div>\n",
              "\n",
              "\n",
              "<div id=\"df-c1902438-c3bc-4c21-8827-80c7dede7ab8\">\n",
              "  <button class=\"colab-df-quickchart\" onclick=\"quickchart('df-c1902438-c3bc-4c21-8827-80c7dede7ab8')\"\n",
              "            title=\"Suggest charts\"\n",
              "            style=\"display:none;\">\n",
              "\n",
              "<svg xmlns=\"http://www.w3.org/2000/svg\" height=\"24px\"viewBox=\"0 0 24 24\"\n",
              "     width=\"24px\">\n",
              "    <g>\n",
              "        <path d=\"M19 3H5c-1.1 0-2 .9-2 2v14c0 1.1.9 2 2 2h14c1.1 0 2-.9 2-2V5c0-1.1-.9-2-2-2zM9 17H7v-7h2v7zm4 0h-2V7h2v10zm4 0h-2v-4h2v4z\"/>\n",
              "    </g>\n",
              "</svg>\n",
              "  </button>\n",
              "\n",
              "<style>\n",
              "  .colab-df-quickchart {\n",
              "      --bg-color: #E8F0FE;\n",
              "      --fill-color: #1967D2;\n",
              "      --hover-bg-color: #E2EBFA;\n",
              "      --hover-fill-color: #174EA6;\n",
              "      --disabled-fill-color: #AAA;\n",
              "      --disabled-bg-color: #DDD;\n",
              "  }\n",
              "\n",
              "  [theme=dark] .colab-df-quickchart {\n",
              "      --bg-color: #3B4455;\n",
              "      --fill-color: #D2E3FC;\n",
              "      --hover-bg-color: #434B5C;\n",
              "      --hover-fill-color: #FFFFFF;\n",
              "      --disabled-bg-color: #3B4455;\n",
              "      --disabled-fill-color: #666;\n",
              "  }\n",
              "\n",
              "  .colab-df-quickchart {\n",
              "    background-color: var(--bg-color);\n",
              "    border: none;\n",
              "    border-radius: 50%;\n",
              "    cursor: pointer;\n",
              "    display: none;\n",
              "    fill: var(--fill-color);\n",
              "    height: 32px;\n",
              "    padding: 0;\n",
              "    width: 32px;\n",
              "  }\n",
              "\n",
              "  .colab-df-quickchart:hover {\n",
              "    background-color: var(--hover-bg-color);\n",
              "    box-shadow: 0 1px 2px rgba(60, 64, 67, 0.3), 0 1px 3px 1px rgba(60, 64, 67, 0.15);\n",
              "    fill: var(--button-hover-fill-color);\n",
              "  }\n",
              "\n",
              "  .colab-df-quickchart-complete:disabled,\n",
              "  .colab-df-quickchart-complete:disabled:hover {\n",
              "    background-color: var(--disabled-bg-color);\n",
              "    fill: var(--disabled-fill-color);\n",
              "    box-shadow: none;\n",
              "  }\n",
              "\n",
              "  .colab-df-spinner {\n",
              "    border: 2px solid var(--fill-color);\n",
              "    border-color: transparent;\n",
              "    border-bottom-color: var(--fill-color);\n",
              "    animation:\n",
              "      spin 1s steps(1) infinite;\n",
              "  }\n",
              "\n",
              "  @keyframes spin {\n",
              "    0% {\n",
              "      border-color: transparent;\n",
              "      border-bottom-color: var(--fill-color);\n",
              "      border-left-color: var(--fill-color);\n",
              "    }\n",
              "    20% {\n",
              "      border-color: transparent;\n",
              "      border-left-color: var(--fill-color);\n",
              "      border-top-color: var(--fill-color);\n",
              "    }\n",
              "    30% {\n",
              "      border-color: transparent;\n",
              "      border-left-color: var(--fill-color);\n",
              "      border-top-color: var(--fill-color);\n",
              "      border-right-color: var(--fill-color);\n",
              "    }\n",
              "    40% {\n",
              "      border-color: transparent;\n",
              "      border-right-color: var(--fill-color);\n",
              "      border-top-color: var(--fill-color);\n",
              "    }\n",
              "    60% {\n",
              "      border-color: transparent;\n",
              "      border-right-color: var(--fill-color);\n",
              "    }\n",
              "    80% {\n",
              "      border-color: transparent;\n",
              "      border-right-color: var(--fill-color);\n",
              "      border-bottom-color: var(--fill-color);\n",
              "    }\n",
              "    90% {\n",
              "      border-color: transparent;\n",
              "      border-bottom-color: var(--fill-color);\n",
              "    }\n",
              "  }\n",
              "</style>\n",
              "\n",
              "  <script>\n",
              "    async function quickchart(key) {\n",
              "      const quickchartButtonEl =\n",
              "        document.querySelector('#' + key + ' button');\n",
              "      quickchartButtonEl.disabled = true;  // To prevent multiple clicks.\n",
              "      quickchartButtonEl.classList.add('colab-df-spinner');\n",
              "      try {\n",
              "        const charts = await google.colab.kernel.invokeFunction(\n",
              "            'suggestCharts', [key], {});\n",
              "      } catch (error) {\n",
              "        console.error('Error during call to suggestCharts:', error);\n",
              "      }\n",
              "      quickchartButtonEl.classList.remove('colab-df-spinner');\n",
              "      quickchartButtonEl.classList.add('colab-df-quickchart-complete');\n",
              "    }\n",
              "    (() => {\n",
              "      let quickchartButtonEl =\n",
              "        document.querySelector('#df-c1902438-c3bc-4c21-8827-80c7dede7ab8 button');\n",
              "      quickchartButtonEl.style.display =\n",
              "        google.colab.kernel.accessAllowed ? 'block' : 'none';\n",
              "    })();\n",
              "  </script>\n",
              "</div>\n",
              "    </div>\n",
              "  </div>\n"
            ]
          },
          "metadata": {},
          "execution_count": 50
        }
      ]
    },
    {
      "cell_type": "code",
      "source": [
        "import numpy as np\n",
        "np.unique(y_train, return_counts=True) #return_counts=True renvoie un tableau qui contient le nombre de fois que chaque valeur unique apparaît dans y_train\n"
      ],
      "metadata": {
        "colab": {
          "base_uri": "https://localhost:8080/"
        },
        "id": "DkdwrSt6ZzHB",
        "outputId": "0bf59b21-77d1-4196-c278-95467900e231"
      },
      "execution_count": null,
      "outputs": [
        {
          "output_type": "execute_result",
          "data": {
            "text/plain": [
              "(array(['BRICKFACE', 'CEMENT', 'FOLIAGE', 'GRASS', 'PATH', 'SKY', 'WINDOW'],\n",
              "       dtype=object),\n",
              " array([190, 197, 186, 184, 185, 188, 180]))"
            ]
          },
          "metadata": {},
          "execution_count": 56
        }
      ]
    },
    {
      "cell_type": "code",
      "source": [
        "np.sum(y_train_encoded.values, axis=0)"
      ],
      "metadata": {
        "colab": {
          "base_uri": "https://localhost:8080/"
        },
        "id": "URvZrn5jbNi8",
        "outputId": "37f2fff3-68be-4575-9ad9-ae947f035cff"
      },
      "execution_count": null,
      "outputs": [
        {
          "output_type": "execute_result",
          "data": {
            "text/plain": [
              "array([190, 197, 186, 184, 185, 188, 180], dtype=uint64)"
            ]
          },
          "metadata": {},
          "execution_count": 54
        }
      ]
    },
    {
      "cell_type": "markdown",
      "source": [
        "### Normalisation des features\n",
        "\n",
        "Normalisation avec `StandardScaler()`.\n",
        "\n",
        "Après la transformation, chaque feature aura une moyenne approximativement égale à 0 et une variance égale à 1, à condition que les caractéristiques originales suivent une distribution normale. Si ce n'est pas le cas, la standardisation peut ne pas donner une distribution normale.\n",
        "\n",
        "La transformation est :\n",
        "\n",
        "$$\n",
        "z = \\frac{x - \\mu}{\\sigma}\n",
        "$$\n",
        "\n",
        "où\n",
        "\n",
        "  - $z$ est la valeur transformée de la caractéristique (feature).\n",
        "  - $x$ est la valeur originale de la caractéristique.\n",
        "  - $μ$ est la moyenne de la caractéristique calculée sur l'ensemble des données.\n",
        "  - $σ$ est l'écart-type de la caractéristique.\n"
      ],
      "metadata": {
        "id": "6KEo-mm7XC5-"
      }
    },
    {
      "cell_type": "code",
      "source": [
        "from sklearn.preprocessing import StandardScaler\n",
        "\n",
        "scaler = StandardScaler()\n",
        "\n",
        "X_train_scaled = scaler.fit_transform(X_train)\n",
        "\n",
        "np.mean(X_train_scaled, axis=0)"
      ],
      "metadata": {
        "colab": {
          "base_uri": "https://localhost:8080/"
        },
        "id": "rK9dV2Z-bbrB",
        "outputId": "4ed4b924-f0ae-4377-fb32-15c38738054c"
      },
      "execution_count": null,
      "outputs": [
        {
          "output_type": "execute_result",
          "data": {
            "text/plain": [
              "array([-7.59358649e-17, -2.71199517e-18,  0.00000000e+00, -9.22078359e-17,\n",
              "        3.25439421e-17,  8.13598552e-18, -1.08479807e-17, -1.62719710e-17,\n",
              "       -2.71199517e-18, -8.27158528e-17, -8.27158528e-17, -4.74599156e-17,\n",
              "        2.44079566e-17,  9.35638335e-17, -1.28141772e-16, -1.35599759e-18,\n",
              "        1.12547800e-16,  1.23395780e-16,  7.96648583e-17])"
            ]
          },
          "metadata": {},
          "execution_count": 57
        }
      ]
    },
    {
      "cell_type": "code",
      "source": [
        "X_test_scaled = scaler.transform(X_test)\n",
        "np.mean(X_test_scaled, axis=0)"
      ],
      "metadata": {
        "colab": {
          "base_uri": "https://localhost:8080/"
        },
        "id": "i1QE4vqJdTQ3",
        "outputId": "fa2067e5-1745-43f5-d610-c023525acb56"
      },
      "execution_count": null,
      "outputs": [
        {
          "output_type": "execute_result",
          "data": {
            "text/plain": [
              "array([-0.02020605,  0.01884811,  0.        , -0.04424365,  0.00630796,\n",
              "       -0.03388503, -0.02926025,  0.03663427, -0.0278119 , -0.02480634,\n",
              "       -0.02411881, -0.0276192 , -0.02182064,  0.02643913, -0.03907171,\n",
              "        0.03982831, -0.02754092,  0.03332159,  0.00656877])"
            ]
          },
          "metadata": {},
          "execution_count": 58
        }
      ]
    },
    {
      "cell_type": "markdown",
      "source": [
        "## Construction du modèle\n",
        "\n",
        "### RN simple couche"
      ],
      "metadata": {
        "id": "nwyp2biEYncZ"
      }
    },
    {
      "cell_type": "code",
      "source": [
        "import keras\n",
        "keras.__version__"
      ],
      "metadata": {
        "colab": {
          "base_uri": "https://localhost:8080/",
          "height": 35
        },
        "id": "lEtCreFcdogM",
        "outputId": "015a2b25-6781-407a-ebad-80db503eb31e"
      },
      "execution_count": null,
      "outputs": [
        {
          "output_type": "execute_result",
          "data": {
            "text/plain": [
              "'2.14.0'"
            ],
            "application/vnd.google.colaboratory.intrinsic+json": {
              "type": "string"
            }
          },
          "metadata": {},
          "execution_count": 59
        }
      ]
    },
    {
      "cell_type": "code",
      "source": [
        "from keras.models import Sequential # RN avec des couches en séquence\n",
        "from keras.layers import Dense # Les couches sont pleinement connectées"
      ],
      "metadata": {
        "id": "WzlNFZY3eVSZ"
      },
      "execution_count": null,
      "outputs": []
    },
    {
      "cell_type": "code",
      "source": [
        "model = Sequential()\n",
        "\n",
        "# ajout de la couche \"entrée (19) -> sortie (7)\"\n",
        "# y_train_encoded.shape[1] : nb de neuronnes en sortie, 1 neuronne par classe (one hot encoding)\n",
        "# X_train_scaled.shape[1] : nb de neuronnes en entrée, 1 neuronne par valeur explicative\n",
        "\n",
        "model.add( Dense(units=y_train_encoded.shape[1], input_dim=X_train_scaled.shape[1], activation='softmax' ))\n",
        "\n",
        "model.get_config()"
      ],
      "metadata": {
        "id": "IKCXVssbfDWk"
      },
      "execution_count": null,
      "outputs": []
    },
    {
      "cell_type": "markdown",
      "source": [
        "\n",
        "#### Fonction de perte `categorical_crossentropy`\n",
        "\n",
        "Classification Multi-classes : Dans un problème de classification multi-classes, chaque échantillon appartient à une et une seule parmi plusieurs classes. Par exemple, une image pourrait être classée comme un chat, un chien, un oiseau, etc., mais pas plusieurs à la fois.\n",
        "\n",
        "Codage One-Hot : Chaque étiquette de classe est convertie en un vecteur \"one-hot\". Dans ce vecteur, un seul élément est \"1\" (représentant la classe à laquelle l'échantillon appartient), et tous les autres éléments sont \"0\". Par exemple, si nous avons trois classes (chat, chien, oiseau), et que l'échantillon est un \"chien\", il pourrait être représenté comme [0, 1, 0].\n",
        "\n",
        "La `categorical_crossentropy` mesure la distance entre deux distributions de probabilité - la distribution de probabilité prédite par le modèle et la distribution de probabilité réelle (les étiquettes one-hot).\n",
        "\n",
        "Sa formule est :\n",
        "\n",
        "$$\n",
        "-\\sum_{c=1}^{M} y_{\\text{true}, c} \\log(y_{\\text{pred}, c})\n",
        "$$\n",
        "\n",
        "\n",
        "où\n",
        "  - $M$ est le nombre total de classes,\n",
        "  - $y_{\\text{true}, c}$ est la valeur binaire de la classe réelle pour la classe $c$ dans le vecteur one-hot,\n",
        "  - $y_{\\text{pred}, c}$ est la probabilité prédite par le modèle pour la classe $c$.\n",
        "\n",
        "Interprétation :\n",
        "\n",
        "Si la prédiction du modèle est parfaitement exacte (la probabilité prédite pour la classe correcte est 1), la perte est 0 car $\\log(1)=0$.\n",
        "Plus la prédiction s'éloigne de la réalité (la probabilité pour la classe correcte diminue), plus la perte augmente.\n",
        "\n",
        "Objectif en Apprentissage :\n",
        "\n",
        "Durant l'entraînement, l'objectif est de minimiser cette fonction de perte. Une faible valeur de \"categorical_crossentropy\" indique que le modèle est bon pour prédire la classe correcte avec une forte probabilité.\n",
        "\n",
        "#### Optimiseur Adam (Adaptive Moment Estimation)\n",
        "\n",
        "Principes de Base\n",
        "\n",
        "Combinaison des Avantages de Deux Autres Optimiseurs : Adam combine les idées de deux autres méthodes d'optimisation populaires : RMSprop et Momentum. Comme Momentum, Adam conserve une moyenne mobile (décroissante exponentiellement) des gradients passés (momentum), et comme RMSprop, il conserve une moyenne mobile des carrés des gradients passés.\n",
        "\n",
        "Mise à Jour des Poids : L'objectif de l'optimiseur Adam est de mettre à jour les poids du réseau de manière efficace en ajustant les taux d'apprentissage de chaque poids, ce qui peut aider à accélérer l'apprentissage et à améliorer la convergence.\n",
        "\n"
      ],
      "metadata": {
        "id": "AOlSQWf-ZFFV"
      }
    },
    {
      "cell_type": "code",
      "source": [
        "# configuration pour l'apprentissage\n",
        "# Nous somme dans la résolution d'un problème de classement\n",
        "# Choix de l'algorithme de descente de gradien stokastique\n",
        "# la métrique nous donne le taux de reconnaissance\n",
        "\n",
        "model.compile( loss=\"categorical_crossentropy\", optimizer=\"adam\", metrics=[\"accuracy\"])\n",
        "\n"
      ],
      "metadata": {
        "id": "DvXvbtmygh_X"
      },
      "execution_count": null,
      "outputs": []
    },
    {
      "cell_type": "markdown",
      "source": [
        "Entrainement sur l'échantillon de données d'apprentissage"
      ],
      "metadata": {
        "id": "o3JAIP0ciddg"
      }
    },
    {
      "cell_type": "code",
      "source": [
        "model.fit(X_train_scaled, y_train_encoded, epochs=150, batch_size=20)"
      ],
      "metadata": {
        "id": "nFlYT_TJiKZ6"
      },
      "execution_count": null,
      "outputs": []
    },
    {
      "cell_type": "markdown",
      "source": [
        "Évalusation de la pertinence du model sur l'échantillon de test"
      ],
      "metadata": {
        "id": "dFk9CKpZjYdx"
      }
    },
    {
      "cell_type": "code",
      "source": [
        "y_predict_encoded = model.predict(X_test_scaled)\n",
        "y_predict_encoded.shape"
      ],
      "metadata": {
        "colab": {
          "base_uri": "https://localhost:8080/"
        },
        "id": "wL3m-0ZOik9d",
        "outputId": "f9f35980-10fc-4921-b0ef-95a775044d56"
      },
      "execution_count": null,
      "outputs": [
        {
          "output_type": "stream",
          "name": "stdout",
          "text": [
            "25/25 [==============================] - 0s 3ms/step\n"
          ]
        },
        {
          "output_type": "execute_result",
          "data": {
            "text/plain": [
              "(790, 7)"
            ]
          },
          "metadata": {},
          "execution_count": 68
        }
      ]
    },
    {
      "cell_type": "code",
      "source": [
        "y_predict_encoded[:5]"
      ],
      "metadata": {
        "colab": {
          "base_uri": "https://localhost:8080/"
        },
        "id": "oJqnEodUlqHX",
        "outputId": "bca5ad67-b6ab-4fba-d98e-769a5c66e6e0"
      },
      "execution_count": null,
      "outputs": [
        {
          "output_type": "execute_result",
          "data": {
            "text/plain": [
              "array([[6.7642318e-08, 1.1638989e-02, 2.3485827e-08, 2.3899808e-08,\n",
              "        5.4523145e-04, 9.8781550e-01, 2.2782802e-07],\n",
              "       [1.3870419e-02, 6.7386365e-01, 3.5513133e-02, 1.6133652e-04,\n",
              "        1.0111734e-04, 1.1860055e-05, 2.7647844e-01],\n",
              "       [1.9374905e-02, 1.4679595e-04, 8.4539759e-01, 6.3536500e-05,\n",
              "        3.9093072e-07, 7.7649418e-08, 1.3501668e-01],\n",
              "       [1.4497743e-11, 3.8526316e-05, 6.8556684e-13, 1.8977642e-10,\n",
              "        2.0429272e-07, 9.9996120e-01, 4.1308870e-12],\n",
              "       [2.0105533e-08, 1.0231293e-02, 9.8888153e-01, 5.2559708e-06,\n",
              "        8.9183311e-07, 2.4517565e-08, 8.8091026e-04]], dtype=float32)"
            ]
          },
          "metadata": {},
          "execution_count": 71
        }
      ]
    },
    {
      "cell_type": "code",
      "source": [
        "np.sum(y_predict_encoded, axis=1)[:5]"
      ],
      "metadata": {
        "colab": {
          "base_uri": "https://localhost:8080/"
        },
        "id": "jSM0zFetkc6V",
        "outputId": "cdd78964-051a-4931-d164-583d9b8b9b53"
      },
      "execution_count": null,
      "outputs": [
        {
          "output_type": "execute_result",
          "data": {
            "text/plain": [
              "array([1.        , 0.9999999 , 1.        , 0.99999994, 0.9999999 ],\n",
              "      dtype=float32)"
            ]
          },
          "metadata": {},
          "execution_count": 70
        }
      ]
    },
    {
      "cell_type": "code",
      "source": [
        "y_predict_decoded = np.argmax(y_predict_encoded, axis=1)\n",
        "y_predict_decoded[:5]"
      ],
      "metadata": {
        "colab": {
          "base_uri": "https://localhost:8080/"
        },
        "id": "amsUe26mk5kt",
        "outputId": "43ea6a40-fb9a-4919-9f47-f51ffa3a58eb"
      },
      "execution_count": null,
      "outputs": [
        {
          "output_type": "execute_result",
          "data": {
            "text/plain": [
              "array([5, 1, 2, 5, 2])"
            ]
          },
          "metadata": {},
          "execution_count": 73
        }
      ]
    },
    {
      "cell_type": "code",
      "source": [
        "y_train_encoded.columns"
      ],
      "metadata": {
        "colab": {
          "base_uri": "https://localhost:8080/"
        },
        "id": "TFVTkIlImLbF",
        "outputId": "e8a70872-27d1-4d11-ac96-3da705f96370"
      },
      "execution_count": null,
      "outputs": [
        {
          "output_type": "execute_result",
          "data": {
            "text/plain": [
              "Index(['BRICKFACE', 'CEMENT', 'FOLIAGE', 'GRASS', 'PATH', 'SKY', 'WINDOW'], dtype='object')"
            ]
          },
          "metadata": {},
          "execution_count": 74
        }
      ]
    },
    {
      "cell_type": "code",
      "source": [
        "y_predict = y_train_encoded.columns[y_predict_decoded]\n",
        "y_predict[:5]"
      ],
      "metadata": {
        "colab": {
          "base_uri": "https://localhost:8080/"
        },
        "id": "phQ6-Zqtmy2v",
        "outputId": "70c49b94-67fe-4578-8dbb-180dc1bfe6b9"
      },
      "execution_count": null,
      "outputs": [
        {
          "output_type": "execute_result",
          "data": {
            "text/plain": [
              "Index(['SKY', 'CEMENT', 'FOLIAGE', 'SKY', 'FOLIAGE'], dtype='object')"
            ]
          },
          "metadata": {},
          "execution_count": 77
        }
      ]
    },
    {
      "cell_type": "markdown",
      "source": [
        "Matrice de confusion"
      ],
      "metadata": {
        "id": "wc15emT8nseq"
      }
    },
    {
      "cell_type": "code",
      "source": [
        "from sklearn import metrics\n",
        "\n",
        "metrics.confusion_matrix(y_test, y_predict)"
      ],
      "metadata": {
        "colab": {
          "base_uri": "https://localhost:8080/"
        },
        "id": "XHEabBzxnErI",
        "outputId": "653f0bd7-2f24-402d-b76a-25317d301dc0"
      },
      "execution_count": null,
      "outputs": [
        {
          "output_type": "execute_result",
          "data": {
            "text/plain": [
              "array([[109,   0,   0,   0,   0,   0,   1],\n",
              "       [  1,  92,   2,   0,   2,   0,   6],\n",
              "       [  1,   1,  99,   0,   0,   0,  13],\n",
              "       [  0,   0,   0, 115,   1,   0,   0],\n",
              "       [  0,   0,   0,   0, 115,   0,   0],\n",
              "       [  0,   0,   0,   0,   0, 112,   0],\n",
              "       [  0,  11,  23,   0,   0,   0,  86]])"
            ]
          },
          "metadata": {},
          "execution_count": 78
        }
      ]
    },
    {
      "cell_type": "markdown",
      "source": [
        "Accuracy"
      ],
      "metadata": {
        "id": "ew47h6kGn_8Q"
      }
    },
    {
      "cell_type": "markdown",
      "source": [
        "## Résultats\n",
        "\n",
        "Globalement c'est bien, l'accuracy est de 92%.\n",
        "Mais dans le détail, on voit que la classe 'WINDOW' n'est pas très bien reconnue.\n",
        "Il y a également un problème sur la classe 'FOLIAGE'"
      ],
      "metadata": {
        "id": "8PskyI_CzRRT"
      }
    },
    {
      "cell_type": "code",
      "source": [
        "metrics.accuracy_score(y_test, y_predict)"
      ],
      "metadata": {
        "colab": {
          "base_uri": "https://localhost:8080/"
        },
        "id": "2d3xD363n8jf",
        "outputId": "0d1f5fe4-30c3-4670-ad00-a07af8a966ca"
      },
      "execution_count": null,
      "outputs": [
        {
          "output_type": "execute_result",
          "data": {
            "text/plain": [
              "0.9215189873417722"
            ]
          },
          "metadata": {},
          "execution_count": 82
        }
      ]
    },
    {
      "cell_type": "code",
      "source": [
        "print(metrics.classification_report(y_test, y_predict))"
      ],
      "metadata": {
        "colab": {
          "base_uri": "https://localhost:8080/"
        },
        "id": "GqOHr3LQoJcm",
        "outputId": "a0e64786-edf9-43e8-e11d-d9e201460075"
      },
      "execution_count": null,
      "outputs": [
        {
          "output_type": "stream",
          "name": "stdout",
          "text": [
            "              precision    recall  f1-score   support\n",
            "\n",
            "   BRICKFACE       0.98      0.99      0.99       110\n",
            "      CEMENT       0.88      0.89      0.89       103\n",
            "     FOLIAGE       0.80      0.87      0.83       114\n",
            "       GRASS       1.00      0.99      1.00       116\n",
            "        PATH       0.97      1.00      0.99       115\n",
            "         SKY       1.00      1.00      1.00       112\n",
            "      WINDOW       0.81      0.72      0.76       120\n",
            "\n",
            "    accuracy                           0.92       790\n",
            "   macro avg       0.92      0.92      0.92       790\n",
            "weighted avg       0.92      0.92      0.92       790\n",
            "\n"
          ]
        }
      ]
    },
    {
      "cell_type": "markdown",
      "source": [
        "## Évaluation avec Keras"
      ],
      "metadata": {
        "id": "qGg3t8zKz2cO"
      }
    },
    {
      "cell_type": "code",
      "source": [
        "model.evaluate(X_test_scaled, pd.get_dummies(y_test))"
      ],
      "metadata": {
        "colab": {
          "base_uri": "https://localhost:8080/"
        },
        "id": "HbRuuIsBol-Z",
        "outputId": "fa4ff4e3-2c1f-4253-aee2-e7c4697be5f8"
      },
      "execution_count": null,
      "outputs": [
        {
          "output_type": "stream",
          "name": "stdout",
          "text": [
            "25/25 [==============================] - 0s 1ms/step - loss: 0.2130 - accuracy: 0.9215\n"
          ]
        },
        {
          "output_type": "execute_result",
          "data": {
            "text/plain": [
              "[0.2130223959684372, 0.9215189814567566]"
            ]
          },
          "metadata": {},
          "execution_count": 84
        }
      ]
    },
    {
      "cell_type": "markdown",
      "source": [
        "On retrouve le calcul d'accuracy calculé avec SciKit Learn ...\n",
        "Ce sont les mêmes travaux d'évaluation exécutés avec 2 librairies différentes (ouff ;) )."
      ],
      "metadata": {
        "id": "LuK38Ucf0gbw"
      }
    },
    {
      "cell_type": "markdown",
      "source": [
        "# RN multi-couche"
      ],
      "metadata": {
        "id": "WL1bg9oH1BNP"
      }
    },
    {
      "cell_type": "code",
      "source": [
        "model_mc = Sequential()\n",
        "\n",
        "hiden_layer_size = 10\n",
        "\n",
        "# Ajout de la première couche \"entrée (19) -> couche cachée (10)\"\n",
        "model_mc.add( Dense(units=hiden_layer_size, input_dim=X_train_scaled.shape[1], activation='relu' ))\n",
        "\n",
        "# Ajout de la seconde couche \"couche cachée (10) -> couche de sortie (7)\"\n",
        "# Pas d'input_dim à spécifier\n",
        "model_mc.add( Dense( units=y_train_encoded.shape[1], activation='softmax'))\n",
        "\n",
        "model_mc.get_config()"
      ],
      "metadata": {
        "id": "AKidSRgS0cFf"
      },
      "execution_count": null,
      "outputs": []
    },
    {
      "cell_type": "code",
      "source": [
        "# configuration pour l'apprentissage\n",
        "# Nous somme dans la résolution d'un problème de classement\n",
        "# Choix de l'algorithme de descente de gradien stokastique\n",
        "# la métrique nous donne le taux de reconnaissance\n",
        "\n",
        "model_mc.compile( loss=\"categorical_crossentropy\", optimizer=\"adam\", metrics=[\"accuracy\"])"
      ],
      "metadata": {
        "id": "XM7_MJcu2vla"
      },
      "execution_count": null,
      "outputs": []
    },
    {
      "cell_type": "code",
      "source": [
        "model_mc.fit(X_train_scaled, y_train_encoded, epochs=150, batch_size=20)"
      ],
      "metadata": {
        "id": "KbjDiZgW3eOc"
      },
      "execution_count": null,
      "outputs": []
    },
    {
      "cell_type": "code",
      "source": [
        "model_mc.evaluate(X_test_scaled, pd.get_dummies(y_test))"
      ],
      "metadata": {
        "id": "7b-yiDOp38hb"
      },
      "execution_count": null,
      "outputs": []
    },
    {
      "cell_type": "code",
      "source": [],
      "metadata": {
        "id": "LBuy4n_44OEX"
      },
      "execution_count": null,
      "outputs": []
    }
  ]
}