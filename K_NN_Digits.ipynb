{
  "nbformat": 4,
  "nbformat_minor": 0,
  "metadata": {
    "colab": {
      "provenance": [],
      "authorship_tag": "ABX9TyMFPh/vF0W37ao8ez59gFyY",
      "include_colab_link": true
    },
    "kernelspec": {
      "name": "python3",
      "display_name": "Python 3"
    },
    "language_info": {
      "name": "python"
    }
  },
  "cells": [
    {
      "cell_type": "markdown",
      "metadata": {
        "id": "view-in-github",
        "colab_type": "text"
      },
      "source": [
        "<a href=\"https://colab.research.google.com/github/be-next/TP-IA/blob/main/K_NN_Digits.ipynb\" target=\"_parent\"><img src=\"https://colab.research.google.com/assets/colab-badge.svg\" alt=\"Open In Colab\"/></a>"
      ]
    },
    {
      "cell_type": "markdown",
      "source": [
        "# Vision par ordinateur\n",
        "\n",
        "\n",
        "## Présentation\n",
        "\n",
        "Algorithme de classification K-NN (voisin le plus proche).\n",
        "\n",
        "Utilisation du dataset appelé \"Digits\", qui est une collection d'images de chiffres manuscrits.\n",
        "\n",
        "Le dataset comporte 1797 images, chaque image possèdes 64 features qui correspondent à chacun des pixels qui composent l'image (8*8).\n",
        "\n",
        "## Description du dataset\n",
        "\n",
        "**Images de Chiffres Manuscrits** : Il contient des images de chiffres manuscrits (0 à 9).\n",
        "\n",
        "**Taille des Images** : Chaque image a une résolution de 8x8 pixels. Les images sont en niveaux de gris, où chaque pixel a une valeur indiquant l'intensité de la couleur.\n",
        "\n",
        "**Utilisation** : Le dataset est couramment utilisé dans les exercices d'introduction à l'apprentissage machine pour la reconnaissance de caractères manuscrits, en particulier pour les algorithmes de classification.\n",
        "\n",
        "**Structure du Dataset** : En plus des images elles-mêmes, le dataset comprend des labels pour chaque image, indiquant quel chiffre (de 0 à 9) l'image représente."
      ],
      "metadata": {
        "id": "0HJQ5TnKKI4y"
      }
    },
    {
      "cell_type": "code",
      "execution_count": 1,
      "metadata": {
        "id": "rNP_Y1nRKGJP"
      },
      "outputs": [],
      "source": [
        "import numpy as np\n",
        "import matplotlib.pyplot as plt\n",
        "from sklearn.datasets import load_digits\n",
        "from sklearn.neighbors import KNeighborsClassifier"
      ]
    },
    {
      "cell_type": "code",
      "source": [
        "# import de la base de données de chiffre\n",
        "digits = load_digits()\n",
        "X = digits.data\n",
        "y = digits.target\n",
        "print('dimension de X:', X.shape)"
      ],
      "metadata": {
        "colab": {
          "base_uri": "https://localhost:8080/"
        },
        "id": "ENnipM2KKSLj",
        "outputId": "60695a89-571c-4008-b4fb-fc008ebd6a59"
      },
      "execution_count": 2,
      "outputs": [
        {
          "output_type": "stream",
          "name": "stdout",
          "text": [
            "dimension de X: (1797, 64)\n"
          ]
        }
      ]
    },
    {
      "cell_type": "code",
      "source": [
        "# visualisons un de ces chiffres\n",
        "plt.imshow(digits['images'][0], cmap = 'Greys_r')"
      ],
      "metadata": {
        "colab": {
          "base_uri": "https://localhost:8080/",
          "height": 448
        },
        "id": "m_QtZ92gKV8K",
        "outputId": "ee4c438d-0559-46da-8f95-5e64c6ea1da4"
      },
      "execution_count": 7,
      "outputs": [
        {
          "output_type": "execute_result",
          "data": {
            "text/plain": [
              "<matplotlib.image.AxesImage at 0x7ac9110e3580>"
            ]
          },
          "metadata": {},
          "execution_count": 7
        },
        {
          "output_type": "display_data",
          "data": {
            "text/plain": [
              "<Figure size 640x480 with 1 Axes>"
            ],
            "image/png": "[encoded data removed]"
          },
          "metadata": {}
        }
      ]
    },
    {
      "cell_type": "code",
      "source": [
        "# Entraînement du modele\n",
        "model = KNeighborsClassifier()\n",
        "model.fit(X, y)\n",
        "model.score(X, y)"
      ],
      "metadata": {
        "colab": {
          "base_uri": "https://localhost:8080/"
        },
        "id": "rBp5YXeQKZuY",
        "outputId": "1cbca93e-8705-47bb-dc6a-43ae219d6f52"
      },
      "execution_count": 8,
      "outputs": [
        {
          "output_type": "execute_result",
          "data": {
            "text/plain": [
              "0.9905397885364496"
            ]
          },
          "metadata": {},
          "execution_count": 8
        }
      ]
    },
    {
      "cell_type": "code",
      "source": [
        "#Test du modele\n",
        "id_img = 3\n",
        "# reshape transforme l'image (une matrice 8x8) en un vecteur ligne de 64 éléments\n",
        "test = digits['images'][id_img].reshape(1, -1)\n",
        "plt.imshow(digits['images'][id_img], cmap = 'Greys_r')\n",
        "model.predict(test)"
      ],
      "metadata": {
        "colab": {
          "base_uri": "https://localhost:8080/",
          "height": 448
        },
        "id": "Uy42uNSEKqan",
        "outputId": "4bc17dc3-ce70-42b1-d50f-d3914b771620"
      },
      "execution_count": 16,
      "outputs": [
        {
          "output_type": "execute_result",
          "data": {
            "text/plain": [
              "array([3])"
            ]
          },
          "metadata": {},
          "execution_count": 16
        },
        {
          "output_type": "display_data",
          "data": {
            "text/plain": [
              "<Figure size 640x480 with 1 Axes>"
            ],
            "image/png": "[encoded data removed]"
          },
          "metadata": {}
        }
      ]
    },
    {
      "cell_type": "code",
      "source": [],
      "metadata": {
        "id": "tHvunNHeKz31"
      },
      "execution_count": null,
      "outputs": []
    }
  ]
}