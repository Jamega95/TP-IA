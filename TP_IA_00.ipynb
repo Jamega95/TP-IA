{
  "nbformat": 4,
  "nbformat_minor": 0,
  "metadata": {
    "colab": {
      "provenance": [],
      "authorship_tag": "ABX9TyM8v3w2YyfoMLoDbLBD1JBY",
      "include_colab_link": true
    },
    "kernelspec": {
      "name": "python3",
      "display_name": "Python 3"
    },
    "language_info": {
      "name": "python"
    }
  },
  "cells": [
    {
      "cell_type": "markdown",
      "metadata": {
        "id": "view-in-github",
        "colab_type": "text"
      },
      "source": [
        "<a href=\"https://colab.research.google.com/github/be-next/TP-IA/blob/main/TP_IA_00.ipynb\" target=\"_parent\"><img src=\"https://colab.research.google.com/assets/colab-badge.svg\" alt=\"Open In Colab\"/></a>"
      ]
    },
    {
      "cell_type": "markdown",
      "source": [
        "# NumPy\n",
        "\n",
        "Avec **NumPy**, des opérations complexes comme l'inversion d'une matrice et la multiplication de matrices peuvent être effectuées facilement et efficacement avec peu de lignes de code. **NumPy** utilise des optimisations de bas niveau pour rendre ces opérations extrêmement rapides, même pour de grandes matrices, ce qui serait beaucoup plus lent et plus compliqué à implémenter en utilisant des listes Python pures."
      ],
      "metadata": {
        "id": "KeCHsMmR7O30"
      }
    },
    {
      "cell_type": "code",
      "execution_count": 1,
      "metadata": {
        "colab": {
          "base_uri": "https://localhost:8080/"
        },
        "id": "HGZm3z-46zbK",
        "outputId": "78914868-eb8c-4261-8aad-2215f185686d"
      },
      "outputs": [
        {
          "output_type": "execute_result",
          "data": {
            "text/plain": [
              "(array([[0.68528912, 0.82956889, 0.37099385, 0.15095355, 0.73961997],\n",
              "        [0.20831486, 0.81931929, 0.8651469 , 0.44825912, 0.82797374],\n",
              "        [0.26882525, 0.3322071 , 0.6670295 , 0.26143045, 0.84752393],\n",
              "        [0.13580946, 0.41308295, 0.36607864, 0.55074836, 0.4452898 ]]),\n",
              " 0.5116732370893826,\n",
              " 10.233464741787653,\n",
              " 0.8651468959920358,\n",
              " 0.13580946027194252,\n",
              " array([[0.46962118, 0.68818455, 0.13763644, 0.02278697, 0.5470377 ],\n",
              "        [0.04339508, 0.6712841 , 0.74847915, 0.20093624, 0.68554052],\n",
              "        [0.07226702, 0.11036156, 0.44492835, 0.06834588, 0.71829681],\n",
              "        [0.01844421, 0.17063752, 0.13401357, 0.30332376, 0.19828301]]),\n",
              " array([[0.68528912, 0.20831486, 0.26882525, 0.13580946],\n",
              "        [0.82956889, 0.81931929, 0.3322071 , 0.41308295],\n",
              "        [0.37099385, 0.8651469 , 0.6670295 , 0.36607864],\n",
              "        [0.15095355, 0.44825912, 0.26143045, 0.55074836],\n",
              "        [0.73961997, 0.82797374, 0.84752393, 0.4452898 ]]),\n",
              " array([[1.86526685, 1.82345411, 1.37358502, 0.98404509],\n",
              "        [1.82345411, 2.34963508, 1.72417862, 1.29901599],\n",
              "        [1.37358502, 1.72417862, 1.41419962, 0.93929951],\n",
              "        [0.98404509, 1.29901599, 0.93929951, 0.82470207]]),\n",
              " array([0.68528912, 0.82956889, 0.73961997, 0.81931929, 0.8651469 ,\n",
              "        0.82797374, 0.6670295 , 0.84752393, 0.55074836]))"
            ]
          },
          "metadata": {},
          "execution_count": 1
        }
      ],
      "source": [
        "import numpy as np\n",
        "\n",
        "# Création d'un tableau numpy 2D (matrice) avec des valeurs aléatoires\n",
        "matrice = np.random.rand(4,5)\n",
        "\n",
        "# Calcul de quelques statistiques de base\n",
        "moyenne = np.mean(matrice)\n",
        "somme = np.sum(matrice)\n",
        "maximum = np.max(matrice)\n",
        "minimum = np.min(matrice)\n",
        "\n",
        "# Effectuer une opération élément par élément: élever tous les éléments au carré\n",
        "carre = matrice ** 2\n",
        "\n",
        "# Calcul de la transposée de la matrice\n",
        "transposee = matrice.T\n",
        "\n",
        "# Effectuer une multiplication de matrices (produit dot)\n",
        "produit = np.dot(matrice, transposee)\n",
        "\n",
        "# Créer une sélection en utilisant une condition logique: éléments de 'matrice' > 0.5\n",
        "selection = matrice[matrice > 0.5]\n",
        "\n",
        "matrice, moyenne, somme, maximum, minimum, carre, transposee, produit, selection\n"
      ]
    },
    {
      "cell_type": "code",
      "source": [
        "import numpy as np\n",
        "\n",
        "# Création d'une grande matrice de valeurs aléatoires\n",
        "grande_matrice = np.random.rand(1000, 1000)\n",
        "\n",
        "# Calcul de l'inverse de la matrice\n",
        "inverse = np.linalg.inv(grande_matrice)\n",
        "\n",
        "# Multiplication de matrices pour vérifier l'identité\n",
        "produit = np.dot(grande_matrice, inverse)\n",
        "\n",
        "# Vérification que le produit est proche de la matrice identité\n",
        "est_identite = np.allclose(produit, np.eye(1000))\n",
        "\n",
        "print(\"Le produit est-il égal à la matrice identité ? \", est_identite)\n"
      ],
      "metadata": {
        "colab": {
          "base_uri": "https://localhost:8080/"
        },
        "id": "j2-D5Oqh64vk",
        "outputId": "f9b44783-068a-4fe9-b620-cccd7d1cbd0a"
      },
      "execution_count": 2,
      "outputs": [
        {
          "output_type": "stream",
          "name": "stdout",
          "text": [
            "Le produit est-il égal à la matrice identité ?  True\n"
          ]
        }
      ]
    },
    {
      "cell_type": "markdown",
      "source": [
        "# Pandas\n",
        "\n",
        "La librairie Pandas permet la manipulation et l'analyse de données tabulaires.  Au centre de l'utilisation de Pandas, il y a le DataFrame, qui permet d'effectuer des calculs sur les colonnes, de trier les données, de filtrer selon certaines conditions et de regrouper les résultats pour obtenir des insights. Ces opérations sont couramment utilisées dans l'analyse de données et sont très simples à implémenter avec Pandas."
      ],
      "metadata": {
        "id": "B2TqZGQm7pxg"
      }
    },
    {
      "cell_type": "code",
      "source": [
        "import pandas as pd\n",
        "\n",
        "# Création d'un DataFrame Pandas à partir d'un dictionnaire\n",
        "donnees = {\n",
        "    'Pays': ['France', 'Espagne', 'Allemagne', 'Italie'],\n",
        "    'Population': [67000000, 47000000, 83000000, 60000000],\n",
        "    'Superficie': [643801, 505990, 357022, 301340]  # en kilomètres carrés\n",
        "}\n",
        "\n",
        "df = pd.DataFrame(donnees)\n",
        "\n",
        "# Calcul de la densité de population pour chaque pays\n",
        "df['Densité'] = df['Population'] / df['Superficie']\n",
        "\n",
        "# Tri des pays par densité de population décroissante\n",
        "df_trié = df.sort_values(by='Densité', ascending=False)\n",
        "\n",
        "# Sélection des pays avec une population supérieure à 50 millions\n",
        "df_grande_population = df[df['Population'] > 50000000]\n",
        "\n",
        "# Utilisation de 'groupby' pour regrouper les données par une caractéristique\n",
        "# Ici, juste à titre d'exemple, on va compter le nombre de pays par 'Population' supérieure ou inférieure à 65 millions\n",
        "df['Catégorie Population'] = pd.cut(df['Population'], bins=[0, 65000000, 100000000], labels=['< 65M', '> 65M'])\n",
        "grouped = df.groupby('Catégorie Population').size()\n",
        "\n",
        "# Afficher les résultats\n",
        "print(df_trié)\n",
        "print(df_grande_population)\n",
        "print(grouped)\n"
      ],
      "metadata": {
        "colab": {
          "base_uri": "https://localhost:8080/"
        },
        "id": "Leti98B77MFS",
        "outputId": "883f8561-f5ac-45c0-c410-fe7689bc61e7"
      },
      "execution_count": 3,
      "outputs": [
        {
          "output_type": "stream",
          "name": "stdout",
          "text": [
            "        Pays  Population  Superficie     Densité\n",
            "2  Allemagne    83000000      357022  232.478671\n",
            "3     Italie    60000000      301340  199.110639\n",
            "0     France    67000000      643801  104.069425\n",
            "1    Espagne    47000000      505990   92.887211\n",
            "        Pays  Population  Superficie     Densité\n",
            "0     France    67000000      643801  104.069425\n",
            "2  Allemagne    83000000      357022  232.478671\n",
            "3     Italie    60000000      301340  199.110639\n",
            "Catégorie Population\n",
            "< 65M    2\n",
            "> 65M    2\n",
            "dtype: int64\n"
          ]
        }
      ]
    },
    {
      "cell_type": "markdown",
      "source": [
        "# SciPy\n",
        "\n",
        "## Optimisation\n",
        "\n",
        "Dans cet exemple, ```minimize``` est une fonction de **SciPy** qui permet de trouver le minimum d'une fonction avec des contraintes possibles. Ici, nous définissons une fonction objectif simple (la somme des puissances de trois variables) et une contrainte d'égalité. Le résultat retourné par ```minimize``` donne le point minimum local de la fonction objectif tout en respectant la contrainte définie. Cet exemple illustre comment **SciPy** peut être utilisé pour résoudre des problèmes complexes d'optimisation qui sont très courants dans les domaines scientifiques et de l'ingénierie."
      ],
      "metadata": {
        "id": "1ic9tlz7-CYA"
      }
    },
    {
      "cell_type": "code",
      "source": [
        "from scipy.optimize import minimize\n",
        "\n",
        "# Fonction objectif : on souhaite minimiser cette fonction\n",
        "def fonction_objectif(x):\n",
        "    return x[0]**2 + x[1]**3 + x[2]**4\n",
        "\n",
        "# Contrainte d'égalité : la somme des variables doit être égale à 10\n",
        "def contrainte_eg(x):\n",
        "    return sum(x) - 10\n",
        "\n",
        "# Contraintes définies sous forme de dictionnaire\n",
        "contraintes = ({'type': 'eq', 'fun': contrainte_eg})\n",
        "\n",
        "# Valeurs initiales pour les variables (point de départ de l'optimisation)\n",
        "x0 = [0, 0, 0]\n",
        "\n",
        "# Appel de la fonction 'minimize' pour résoudre le problème d'optimisation\n",
        "resultat = minimize(fonction_objectif, x0, constraints=contraintes)\n",
        "\n",
        "print(\"Le minimum trouvé est \", resultat.fun)\n",
        "print(\"Les valeurs des variables qui minimisent la fonction objectif sont \", resultat.x)\n"
      ],
      "metadata": {
        "colab": {
          "base_uri": "https://localhost:8080/"
        },
        "id": "UPBNAWzF8ICo",
        "outputId": "dcd91994-9355-48b1-ee1e-1dd6bcb1606d"
      },
      "execution_count": 6,
      "outputs": [
        {
          "output_type": "stream",
          "name": "stdout",
          "text": [
            "Le minimum trouvé est  55.26992807728239\n",
            "Les valeurs des variables qui minimisent la fonction objectif sont  [6.44913174 2.07334507 1.47752318]\n"
          ]
        }
      ]
    },
    {
      "cell_type": "markdown",
      "source": [
        "## Régression linéare\n",
        "\n",
        "Dans cet exemple, nous créons un ensemble de données synthétiques pour simuler la progression de l'épidémie de COVID, puis nous utilisons la fonction ```curve_fit``` de **SciPy** pour ajuster un modèle logistique aux données. Le résultat est un ensemble de paramètres qui décrit le mieux les données observées, et nous pouvons utiliser ces paramètres pour faire des prédictions ou comprendre la dynamique de l'épidémie.\n",
        "\n",
        "Ce type d'analyse est fréquent dans les études épidémiologiques et montre comment les fonctions de **SciPy** peuvent être appliquées à des problèmes réels et complexes avec une quantité de code relativement réduite."
      ],
      "metadata": {
        "id": "lqZVYfdQA8GM"
      }
    },
    {
      "cell_type": "code",
      "source": [
        "import numpy as np\n",
        "from scipy.optimize import curve_fit\n",
        "import matplotlib.pyplot as plt\n",
        "\n",
        "# Génération de données synthétiques: Jours vs Nombre total de cas\n",
        "jours = np.arange(0, 100, 1)\n",
        "nombre_de_cas = 1000 / (1 + np.exp(-0.1*(jours-50))) + np.random.normal(0, 25, 100)  # Un modèle logistique avec du bruit\n",
        "\n",
        "# Fonction modèle logistique pour l'ajustement\n",
        "def modele_logistique(x, K, P0, r):\n",
        "    return K / (1 + ((K-P0)/P0)*np.exp(-r*x))\n",
        "\n",
        "# Paramètres initiaux: K=capacité maximale, P0=nombre initial d'infectés, r=taux de croissance\n",
        "parametres_initiaux = [10000, 1, 0.2]\n",
        "\n",
        "# Ajustement de la courbe\n",
        "parametres_optimaux, covariance = curve_fit(modele_logistique, jours, nombre_de_cas, p0=parametres_initiaux)\n",
        "\n",
        "# Les paramètres optimaux de l'ajustement du modèle logistique\n",
        "K_optimal, P0_optimal, r_optimal = parametres_optimaux\n",
        "\n",
        "# Utilisation des paramètres optimaux pour prédire le nombre de cas\n",
        "predictions = modele_logistique(jours, K_optimal, P0_optimal, r_optimal)\n",
        "\n",
        "# Affichage des résultats\n",
        "plt.scatter(jours, nombre_de_cas, label='Données réelles')\n",
        "plt.plot(jours, predictions, label='Ajustement du modèle logistique', color='red')\n",
        "plt.xlabel('Jours')\n",
        "plt.ylabel('Nombre total de cas')\n",
        "plt.legend()\n",
        "plt.show()\n",
        "\n",
        "print(\"Capacité maximale estimée (K):\", K_optimal)\n",
        "print(\"Nombre initial d'infectés estimé (P0):\", P0_optimal)\n",
        "print(\"Taux de croissance estimé (r):\", r_optimal)\n"
      ],
      "metadata": {
        "colab": {
          "base_uri": "https://localhost:8080/",
          "height": 503
        },
        "id": "vhUtfddp99hm",
        "outputId": "2a8e1bf3-1dfc-47fe-a09c-497556b607ae"
      },
      "execution_count": 7,
      "outputs": [
        {
          "output_type": "display_data",
          "data": {
            "text/plain": [
              "<Figure size 640x480 with 1 Axes>"
            ],
            "image/png": "[encoded data removed]"
          },
          "metadata": {}
        },
        {
          "output_type": "stream",
          "name": "stdout",
          "text": [
            "Capacité maximale estimée (K): 995.9524023289389\n",
            "Nombre initial d'infectés estimé (P0): 6.245941634177177\n",
            "Taux de croissance estimé (r): 0.101298555434373\n"
          ]
        }
      ]
    },
    {
      "cell_type": "markdown",
      "source": [
        "# Scikit-Learn\n",
        "\n",
        "## Classification\n",
        "\n",
        "Dans cet exemple, nous utilisons le célèbre jeu de données Iris pour construire un modèle de classification des espèces de fleurs d'iris à partir de leurs caractéristiques physiques.\n",
        "\n",
        "Le processus de machine learning est le suivant :\n",
        "\n",
        " 1. Charger un jeu de données standard (Iris).\n",
        " 2. Séparer les données en un ensemble d'entraînement et un ensemble de test.\n",
        " 3. Normaliser les caractéristiques pour améliorer les performances du modèle.\n",
        " 4. Utiliser l'algorithme des K-Plus Proches Voisins (K-Nearest Neighbors) pour la classification.\n",
        " 5. Entraîner le modèle sur les données d'entraînement.\n",
        " 6. Faire des prédictions sur les données de test.\n",
        " 7. Évaluer la performance du modèle à l'aide de la matrice de confusion et du rapport de classification."
      ],
      "metadata": {
        "id": "8vhdHXzOBaVk"
      }
    },
    {
      "cell_type": "code",
      "source": [
        "from sklearn.datasets import load_iris\n",
        "from sklearn.model_selection import train_test_split\n",
        "from sklearn.preprocessing import StandardScaler\n",
        "from sklearn.neighbors import KNeighborsClassifier\n",
        "from sklearn.metrics import classification_report, confusion_matrix\n",
        "\n",
        "# Chargement du jeu de données Iris\n",
        "iris = load_iris()\n",
        "X = iris.data\n",
        "y = iris.target\n",
        "\n",
        "# Séparation des données en un jeu d'entraînement et un jeu de test\n",
        "X_train, X_test, y_train, y_test = train_test_split(X, y, test_size=0.3, random_state=42)\n",
        "\n",
        "# Normalisation des caractéristiques pour améliorer la performance du modèle\n",
        "scaler = StandardScaler()\n",
        "scaler.fit(X_train)\n",
        "X_train = scaler.transform(X_train)\n",
        "X_test = scaler.transform(X_test)\n",
        "\n",
        "# Construction du modèle de classification avec K-Nearest Neighbors\n",
        "model = KNeighborsClassifier(n_neighbors=5)\n",
        "model.fit(X_train, y_train)\n",
        "\n",
        "# Prédiction sur les données de test\n",
        "predictions = model.predict(X_test)\n",
        "\n",
        "# Evaluation du modèle\n",
        "print(confusion_matrix(y_test, predictions))\n",
        "print(classification_report(y_test, predictions))\n"
      ],
      "metadata": {
        "colab": {
          "base_uri": "https://localhost:8080/"
        },
        "id": "hq9bIzQL_l5A",
        "outputId": "7f02b07d-3580-4c08-cdba-48d28a40cc51"
      },
      "execution_count": 8,
      "outputs": [
        {
          "output_type": "stream",
          "name": "stdout",
          "text": [
            "[[19  0  0]\n",
            " [ 0 13  0]\n",
            " [ 0  0 13]]\n",
            "              precision    recall  f1-score   support\n",
            "\n",
            "           0       1.00      1.00      1.00        19\n",
            "           1       1.00      1.00      1.00        13\n",
            "           2       1.00      1.00      1.00        13\n",
            "\n",
            "    accuracy                           1.00        45\n",
            "   macro avg       1.00      1.00      1.00        45\n",
            "weighted avg       1.00      1.00      1.00        45\n",
            "\n"
          ]
        }
      ]
    },
    {
      "cell_type": "markdown",
      "source": [
        "## Interprétation de la Matrice de Confusion :\n",
        "\n",
        "La matrice de confusion est une matrice 3x3, car il y a trois classes dans le jeu de données Iris (représentées ici par 0, 1 et 2). Chaque ligne représente les instances réelles d'une classe, tandis que chaque colonne représente les prédictions de ces classes. Les valeurs diagonales (19, 13, 13) montrent le nombre de prédictions correctes pour chaque classe. Par exemple, il y avait 19 instances de la classe 0 dans l'ensemble de test, et le modèle a correctement prédit toutes ces 19 instances comme appartenant à la classe 0. De même, pour les classes 1 et 2, toutes les prédictions étaient correctes. Aucune instance n'a été mal classée, comme indiqué par les zéros dans les autres cellules de la matrice.\n",
        "\n",
        "## Interprétation du Rapport de Classification :\n",
        "\n",
        "  - Precision : Indique la précision des prédictions positives. Ici, pour chaque classe, la précision est de 1,00, ce qui signifie que chaque fois que le modèle a prédit une classe, il avait raison 100% du temps.\n",
        "  - Recall : Indique la capacité du modèle à trouver toutes les instances positives. Pour chaque classe, le rappel est également de 1,00, ce qui signifie que le modèle a identifié correctement toutes les instances de chaque classe.\n",
        "  - F1-score : C'est la moyenne harmonique de la précision et du rappel. Un score de 1,00 indique une performance parfaite.\n",
        "  - Support : Le nombre d'occurrences réelles de chaque classe dans l'ensemble de test.\n",
        "  - Accuracy : La précision globale du modèle est de 1,00, ce qui signifie que 100% des prédictions étaient correctes.\n",
        "\n",
        "## Principe de l'Algorithme des K-Plus Proches Voisins (K-Nearest Neighbors) :\n",
        "\n",
        "Le **K-Nearest Neighbors** (KNN) est un algorithme simple mais puissant utilisé pour la classification (et la régression).\n",
        "\n",
        "Le principe est le suivant :\n",
        "\n",
        "Lorsqu'une nouvelle donnée doit être classée, l'algorithme recherche les K exemples les plus proches dans l'ensemble d'entraînement (où K est un paramètre).\n",
        "La proximité est généralement mesurée à l'aide de distances, comme la distance euclidienne.\n",
        "La nouvelle donnée est ensuite classée en prenant un vote majoritaire de ces K voisins. Par exemple, si K=3 et deux des trois voisins les plus proches appartiennent à la classe A et un à la classe B, la nouvelle donnée sera classée comme appartenant à la classe A.\n",
        "Ce modèle est non-paramétrique et paresseux, ce qui signifie qu'il ne fait pas d'hypothèses sur la forme des données et qu'il ne construit pas de modèle explicite, mais effectue des calculs à chaque fois qu'une nouvelle prédiction est requise."
      ],
      "metadata": {
        "id": "UCv3O5FuDR9A"
      }
    },
    {
      "cell_type": "markdown",
      "source": [
        "# PyTorch\n",
        "\n",
        "Dans cet exemple, nous allons créer et entraîner un réseau de neurones simple pour classifier les images du jeu de données **MNIST**, qui est un ensemble standard de chiffres manuscrits.\n",
        "\n",
        "Ce code montre plusieurs concepts clés de PyTorch :\n",
        "\n",
        "  - Définition d'un réseau de neurones : La classe Net hérite de nn.Module et définit les couches du réseau.\n",
        "  - Chargement des données : Utilisation de torchvision pour charger et transformer les données MNIST.\n",
        "  - Entraînement : Boucle d'entraînement utilisant la descente de gradient stochastique et le calcul du gradient automatique.\n",
        "  - Backpropagation : Utilisation de loss.backward() pour la rétropropagation automatique du gradient d'erreur."
      ],
      "metadata": {
        "id": "h_uSP1maFQqB"
      }
    },
    {
      "cell_type": "code",
      "source": [
        "import torch\n",
        "import torch.nn as nn\n",
        "import torch.optim as optim\n",
        "import torchvision\n",
        "import torchvision.transforms as transforms\n",
        "from torch.utils.data import DataLoader\n",
        "\n",
        "# Définition du réseau de neurones\n",
        "class Net(nn.Module):\n",
        "    def __init__(self):\n",
        "        super(Net, self).__init__()\n",
        "        self.fc1 = nn.Linear(784, 500)  # 28x28 = 784, 500 neurones dans la couche cachée\n",
        "        self.relu = nn.ReLU()\n",
        "        self.fc2 = nn.Linear(500, 10)  # 10 classes de sortie pour MNIST (0-9)\n",
        "\n",
        "    def forward(self, x):\n",
        "        x = x.view(-1, 784)  # Aplatir l'image\n",
        "        x = self.relu(self.fc1(x))\n",
        "        x = self.fc2(x)\n",
        "        return x\n",
        "\n",
        "# Création de l'instance du réseau\n",
        "net = Net()\n",
        "\n",
        "# Chargement des données MNIST\n",
        "transform = transforms.Compose([transforms.ToTensor(), transforms.Normalize((0.5,), (0.5,))])\n",
        "trainset = torchvision.datasets.MNIST(root='./data', train=True, download=True, transform=transform)\n",
        "trainloader = DataLoader(trainset, batch_size=64, shuffle=True)\n",
        "\n",
        "# Définition de la fonction de perte et de l'optimiseur\n",
        "criterion = nn.CrossEntropyLoss()\n",
        "optimizer = optim.SGD(net.parameters(), lr=0.01, momentum=0.9)\n",
        "\n",
        "# Entraînement du réseau\n",
        "for epoch in range(5):  # boucle sur le jeu de données plusieurs fois\n",
        "    running_loss = 0.0\n",
        "    for i, data in enumerate(trainloader, 0):\n",
        "        inputs, labels = data\n",
        "        optimizer.zero_grad()\n",
        "\n",
        "        outputs = net(inputs)\n",
        "        loss = criterion(outputs, labels)\n",
        "        loss.backward()\n",
        "        optimizer.step()\n",
        "\n",
        "        running_loss += loss.item()\n",
        "        if i % 100 == 99:    # imprimer toutes les 100 mini-batches\n",
        "            print(f'Epoch {epoch + 1}, Batch {i + 1}, Loss: {running_loss / 100}')\n",
        "            running_loss = 0.0\n",
        "\n",
        "print('Entraînement terminé')\n"
      ],
      "metadata": {
        "colab": {
          "base_uri": "https://localhost:8080/"
        },
        "id": "psDQLH6sBsRi",
        "outputId": "8032dee1-4927-4e84-9d78-34ed32b19b4d"
      },
      "execution_count": 9,
      "outputs": [
        {
          "output_type": "stream",
          "name": "stdout",
          "text": [
            "Downloading http://yann.lecun.com/exdb/mnist/train-images-idx3-ubyte.gz\n",
            "Downloading http://yann.lecun.com/exdb/mnist/train-images-idx3-ubyte.gz to ./data/MNIST/raw/train-images-idx3-ubyte.gz\n"
          ]
        },
        {
          "output_type": "stream",
          "name": "stderr",
          "text": [
            "100%|██████████| 9912422/9912422 [00:00<00:00, 92498795.80it/s]\n"
          ]
        },
        {
          "output_type": "stream",
          "name": "stdout",
          "text": [
            "Extracting ./data/MNIST/raw/train-images-idx3-ubyte.gz to ./data/MNIST/raw\n",
            "\n",
            "Downloading http://yann.lecun.com/exdb/mnist/train-labels-idx1-ubyte.gz\n",
            "Downloading http://yann.lecun.com/exdb/mnist/train-labels-idx1-ubyte.gz to ./data/MNIST/raw/train-labels-idx1-ubyte.gz\n"
          ]
        },
        {
          "output_type": "stream",
          "name": "stderr",
          "text": [
            "100%|██████████| 28881/28881 [00:00<00:00, 71508674.04it/s]\n"
          ]
        },
        {
          "output_type": "stream",
          "name": "stdout",
          "text": [
            "Extracting ./data/MNIST/raw/train-labels-idx1-ubyte.gz to ./data/MNIST/raw\n",
            "\n",
            "Downloading http://yann.lecun.com/exdb/mnist/t10k-images-idx3-ubyte.gz\n",
            "Downloading http://yann.lecun.com/exdb/mnist/t10k-images-idx3-ubyte.gz to ./data/MNIST/raw/t10k-images-idx3-ubyte.gz\n"
          ]
        },
        {
          "output_type": "stream",
          "name": "stderr",
          "text": [
            "100%|██████████| 1648877/1648877 [00:00<00:00, 43659276.77it/s]"
          ]
        },
        {
          "output_type": "stream",
          "name": "stdout",
          "text": [
            "Extracting ./data/MNIST/raw/t10k-images-idx3-ubyte.gz to ./data/MNIST/raw\n"
          ]
        },
        {
          "output_type": "stream",
          "name": "stderr",
          "text": [
            "\n"
          ]
        },
        {
          "output_type": "stream",
          "name": "stdout",
          "text": [
            "\n",
            "Downloading http://yann.lecun.com/exdb/mnist/t10k-labels-idx1-ubyte.gz\n",
            "Downloading http://yann.lecun.com/exdb/mnist/t10k-labels-idx1-ubyte.gz to ./data/MNIST/raw/t10k-labels-idx1-ubyte.gz\n"
          ]
        },
        {
          "output_type": "stream",
          "name": "stderr",
          "text": [
            "100%|██████████| 4542/4542 [00:00<00:00, 12072578.43it/s]\n"
          ]
        },
        {
          "output_type": "stream",
          "name": "stdout",
          "text": [
            "Extracting ./data/MNIST/raw/t10k-labels-idx1-ubyte.gz to ./data/MNIST/raw\n",
            "\n",
            "Epoch 1, Batch 100, Loss: 0.8639506781101227\n",
            "Epoch 1, Batch 200, Loss: 0.4020808307826519\n",
            "Epoch 1, Batch 300, Loss: 0.36726748555898664\n",
            "Epoch 1, Batch 400, Loss: 0.3180802232027054\n",
            "Epoch 1, Batch 500, Loss: 0.29044078692793845\n",
            "Epoch 1, Batch 600, Loss: 0.28458977937698365\n",
            "Epoch 1, Batch 700, Loss: 0.25374816067516803\n",
            "Epoch 1, Batch 800, Loss: 0.2535791529342532\n",
            "Epoch 1, Batch 900, Loss: 0.2366312974691391\n",
            "Epoch 2, Batch 100, Loss: 0.19901707667857407\n",
            "Epoch 2, Batch 200, Loss: 0.19145781122148037\n",
            "Epoch 2, Batch 300, Loss: 0.17193914640694857\n",
            "Epoch 2, Batch 400, Loss: 0.17777576569467782\n",
            "Epoch 2, Batch 500, Loss: 0.168876917026937\n",
            "Epoch 2, Batch 600, Loss: 0.14270750973373653\n",
            "Epoch 2, Batch 700, Loss: 0.15645579468458892\n",
            "Epoch 2, Batch 800, Loss: 0.15223473029211163\n",
            "Epoch 2, Batch 900, Loss: 0.1401814230531454\n",
            "Epoch 3, Batch 100, Loss: 0.12700488533824683\n",
            "Epoch 3, Batch 200, Loss: 0.12408519057556987\n",
            "Epoch 3, Batch 300, Loss: 0.13202613309025765\n",
            "Epoch 3, Batch 400, Loss: 0.11848781902343035\n",
            "Epoch 3, Batch 500, Loss: 0.10309708995744586\n",
            "Epoch 3, Batch 600, Loss: 0.12449021464213729\n",
            "Epoch 3, Batch 700, Loss: 0.09852443862706423\n",
            "Epoch 3, Batch 800, Loss: 0.12277733726426959\n",
            "Epoch 3, Batch 900, Loss: 0.1141989173181355\n",
            "Epoch 4, Batch 100, Loss: 0.08764804990030825\n",
            "Epoch 4, Batch 200, Loss: 0.08958346121944487\n",
            "Epoch 4, Batch 300, Loss: 0.10044308762997389\n",
            "Epoch 4, Batch 400, Loss: 0.10039689270779491\n",
            "Epoch 4, Batch 500, Loss: 0.08689757399260997\n",
            "Epoch 4, Batch 600, Loss: 0.07679991658311337\n",
            "Epoch 4, Batch 700, Loss: 0.08549972329288721\n",
            "Epoch 4, Batch 800, Loss: 0.09577170902863145\n",
            "Epoch 4, Batch 900, Loss: 0.08796369265764951\n",
            "Epoch 5, Batch 100, Loss: 0.0749883055780083\n",
            "Epoch 5, Batch 200, Loss: 0.07051850330084562\n",
            "Epoch 5, Batch 300, Loss: 0.07654830075800419\n",
            "Epoch 5, Batch 400, Loss: 0.0773591292463243\n",
            "Epoch 5, Batch 500, Loss: 0.08111807879060506\n",
            "Epoch 5, Batch 600, Loss: 0.07415193873457611\n",
            "Epoch 5, Batch 700, Loss: 0.08091260906308889\n",
            "Epoch 5, Batch 800, Loss: 0.075557248480618\n",
            "Epoch 5, Batch 900, Loss: 0.07372893809340894\n",
            "Entraînement terminé\n"
          ]
        }
      ]
    },
    {
      "cell_type": "markdown",
      "source": [
        "# Keras\n",
        "\n",
        "Dans cet exemple, nous allons créer un modèle simple pour classer les images de vêtements en utilisant le jeu de données Fashion MNIST, un ensemble populaire utilisé pour les benchmarks en machine learning.\n",
        "\n",
        "L'utilisation de **Keras** est simple :\n",
        "\n",
        "  - Simplicité de création de modèles : Keras permet de construire des modèles de deep learning avec peu de lignes de code, ici en utilisant Sequential pour empiler les couches.\n",
        "  - Facilité de manipulation des données : Le chargement et la préparation des données sont simples et intégrés.\n",
        "  - Entraînement et évaluation : Le modèle est facilement entraîné avec la méthode fit et évalué avec evaluate."
      ],
      "metadata": {
        "id": "lWwK22MKHiXj"
      }
    },
    {
      "cell_type": "code",
      "source": [
        "import tensorflow as tf\n",
        "from tensorflow.keras.layers import Dense, Flatten\n",
        "from tensorflow.keras.models import Sequential\n",
        "from tensorflow.keras.datasets import fashion_mnist\n",
        "\n",
        "# Chargement du jeu de données Fashion MNIST\n",
        "(train_images, train_labels), (test_images, test_labels) = fashion_mnist.load_data()\n",
        "\n",
        "# Normalisation des images\n",
        "train_images = train_images / 255.0\n",
        "test_images = test_images / 255.0\n",
        "\n",
        "# Création du modèle\n",
        "model = Sequential([\n",
        "    Flatten(input_shape=(28, 28)),  # Convertir les images de 28x28 pixels en un vecteur 1D\n",
        "    Dense(128, activation='relu'),  # Première couche cachée avec 128 neurones\n",
        "    Dense(128, activation='relu'),  # Deuxième couche cachée avec 128 neurones\n",
        "    Dense(10, activation='softmax') # Couche de sortie avec 10 neurones, un pour chaque classe\n",
        "])\n",
        "\n",
        "# Compilation du modèle\n",
        "model.compile(optimizer='adam',\n",
        "              loss='sparse_categorical_crossentropy',\n",
        "              metrics=['accuracy'])\n",
        "\n",
        "# Entraînement du modèle\n",
        "model.fit(train_images, train_labels, epochs=10)\n",
        "\n",
        "# Évaluation du modèle\n",
        "test_loss, test_acc = model.evaluate(test_images, test_labels, verbose=2)\n",
        "print('\\nTest accuracy:', test_acc)\n"
      ],
      "metadata": {
        "colab": {
          "base_uri": "https://localhost:8080/"
        },
        "id": "T1FTxY0jEWKo",
        "outputId": "c61337c2-c4ed-48a3-ef63-caf0071d5b9d"
      },
      "execution_count": 11,
      "outputs": [
        {
          "output_type": "stream",
          "name": "stdout",
          "text": [
            "Epoch 1/10\n",
            "1875/1875 [==============================] - 11s 5ms/step - loss: 0.4880 - accuracy: 0.8254\n",
            "Epoch 2/10\n",
            "1875/1875 [==============================] - 8s 4ms/step - loss: 0.3633 - accuracy: 0.8656\n",
            "Epoch 3/10\n",
            "1875/1875 [==============================] - 10s 5ms/step - loss: 0.3286 - accuracy: 0.8788\n",
            "Epoch 4/10\n",
            "1875/1875 [==============================] - 10s 5ms/step - loss: 0.3080 - accuracy: 0.8851\n",
            "Epoch 5/10\n",
            "1875/1875 [==============================] - 8s 4ms/step - loss: 0.2866 - accuracy: 0.8928\n",
            "Epoch 6/10\n",
            "1875/1875 [==============================] - 10s 5ms/step - loss: 0.2734 - accuracy: 0.8964\n",
            "Epoch 7/10\n",
            "1875/1875 [==============================] - 9s 5ms/step - loss: 0.2607 - accuracy: 0.9011\n",
            "Epoch 8/10\n",
            "1875/1875 [==============================] - 9s 5ms/step - loss: 0.2492 - accuracy: 0.9054\n",
            "Epoch 9/10\n",
            "1875/1875 [==============================] - 10s 5ms/step - loss: 0.2408 - accuracy: 0.9085\n",
            "Epoch 10/10\n",
            "1875/1875 [==============================] - 9s 5ms/step - loss: 0.2306 - accuracy: 0.9122\n",
            "313/313 - 1s - loss: 0.3364 - accuracy: 0.8820 - 1s/epoch - 3ms/step\n",
            "\n",
            "Test accuracy: 0.8820000290870667\n"
          ]
        }
      ]
    },
    {
      "cell_type": "code",
      "source": [],
      "metadata": {
        "id": "4vWVpD74GPS-"
      },
      "execution_count": null,
      "outputs": []
    }
  ]
}