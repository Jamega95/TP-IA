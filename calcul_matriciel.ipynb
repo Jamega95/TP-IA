{
  "nbformat": 4,
  "nbformat_minor": 0,
  "metadata": {
    "colab": {
      "provenance": [],
      "authorship_tag": "ABX9TyPxOrxQqiJOP/rWFJgKVjM6",
      "include_colab_link": true
    },
    "kernelspec": {
      "name": "python3",
      "display_name": "Python 3"
    },
    "language_info": {
      "name": "python"
    }
  },
  "cells": [
    {
      "cell_type": "markdown",
      "metadata": {
        "id": "view-in-github",
        "colab_type": "text"
      },
      "source": [
        "<a href=\"https://colab.research.google.com/github/be-next/TP-IA/blob/main/calcul_matriciel.ipynb\" target=\"_parent\"><img src=\"https://colab.research.google.com/assets/colab-badge.svg\" alt=\"Open In Colab\"/></a>"
      ]
    },
    {
      "cell_type": "markdown",
      "source": [
        "# Calcul matriciel avec NumPy"
      ],
      "metadata": {
        "id": "Hh_c0_-FCEZq"
      }
    },
    {
      "cell_type": "code",
      "execution_count": 1,
      "metadata": {
        "id": "riZzLXgA9BQR"
      },
      "outputs": [],
      "source": [
        "import numpy as np"
      ]
    },
    {
      "cell_type": "markdown",
      "source": [
        "## Déclaration d'un matrice 3 x 2"
      ],
      "metadata": {
        "id": "8QX6qJmw9Sr7"
      }
    },
    {
      "cell_type": "code",
      "source": [
        "A = np.array([[1, 2], [3, 4], [5,6]])\n",
        "A"
      ],
      "metadata": {
        "colab": {
          "base_uri": "https://localhost:8080/"
        },
        "id": "HQGYyR6_9F34",
        "outputId": "1a8bbc22-8e8d-4ac4-b42d-86758e98cb45"
      },
      "execution_count": 2,
      "outputs": [
        {
          "output_type": "execute_result",
          "data": {
            "text/plain": [
              "array([[1, 2],\n",
              "       [3, 4],\n",
              "       [5, 6]])"
            ]
          },
          "metadata": {},
          "execution_count": 2
        }
      ]
    },
    {
      "cell_type": "code",
      "source": [
        "A.shape"
      ],
      "metadata": {
        "colab": {
          "base_uri": "https://localhost:8080/"
        },
        "id": "F_ptluzC9PdH",
        "outputId": "940f7c9a-f11b-422f-9aec-0835e75acdcb"
      },
      "execution_count": 3,
      "outputs": [
        {
          "output_type": "execute_result",
          "data": {
            "text/plain": [
              "(3, 2)"
            ]
          },
          "metadata": {},
          "execution_count": 3
        }
      ]
    },
    {
      "cell_type": "markdown",
      "source": [
        "## Transposé d'une matrice\n",
        "\n",
        "Soit une matrice $( A )$ de dimension $( 3 \\times 2 )$ :\n",
        "$$\n",
        "A = \\begin{pmatrix}\n",
        "a_{11} & a_{12} \\\\\n",
        "a_{21} & a_{22} \\\\\n",
        "a_{31} & a_{32}\n",
        "\\end{pmatrix}\n",
        "$$\n",
        "\n",
        "La transposée de $( A )$, notée $( A^T )$, est une matrice de dimension $( 2 \\times 3 )$ et est donnée par :\n",
        "$$\n",
        "A^T = \\begin{pmatrix}\n",
        "a_{11} & a_{21} & a_{31} \\\\\n",
        "a_{12} & a_{22} & a_{32}\n",
        "\\end{pmatrix}\n",
        "$$"
      ],
      "metadata": {
        "id": "1sOotOe_9bbF"
      }
    },
    {
      "cell_type": "code",
      "source": [
        "B = A.T\n",
        "B"
      ],
      "metadata": {
        "colab": {
          "base_uri": "https://localhost:8080/"
        },
        "id": "EKCq1Sjc9Qzq",
        "outputId": "cc3253fe-cb14-45ef-e7f3-cb334f33bac2"
      },
      "execution_count": 5,
      "outputs": [
        {
          "output_type": "execute_result",
          "data": {
            "text/plain": [
              "array([[1, 3, 5],\n",
              "       [2, 4, 6]])"
            ]
          },
          "metadata": {},
          "execution_count": 5
        }
      ]
    },
    {
      "cell_type": "code",
      "source": [
        "B.shape"
      ],
      "metadata": {
        "colab": {
          "base_uri": "https://localhost:8080/"
        },
        "id": "pgGv1Kgi-sJE",
        "outputId": "c4fb60bc-bb59-4fc8-fb14-ce4e1309101f"
      },
      "execution_count": 6,
      "outputs": [
        {
          "output_type": "execute_result",
          "data": {
            "text/plain": [
              "(2, 3)"
            ]
          },
          "metadata": {},
          "execution_count": 6
        }
      ]
    },
    {
      "cell_type": "markdown",
      "source": [
        "## Addition de matrices\n",
        "\n",
        "Pour être additionnées, les matrices doivent être de même dimension.\n",
        "\n",
        "Soient deux matrices carrées $A$ et $B$ de dimension $2 \\times 2$ :\n",
        "$$\n",
        "A = \\begin{pmatrix}\n",
        "a_{11} & a_{12} \\\\\n",
        "a_{21} & a_{22}\n",
        "\\end{pmatrix}, \\quad\n",
        "B = \\begin{pmatrix}\n",
        "b_{11} & b_{12} \\\\\n",
        "b_{21} & b_{22}\n",
        "\\end{pmatrix}\n",
        "$$\n",
        "\n",
        "L'addition de $A$ et $B$ est donnée par :\n",
        "$$\n",
        "A + B = \\begin{pmatrix}\n",
        "a_{11} + b_{11} & a_{12} + b_{12} \\\\\n",
        "a_{21} + b_{21} & a_{22} + b_{22}\n",
        "\\end{pmatrix}\n",
        "$$"
      ],
      "metadata": {
        "id": "HfYT008q_OUC"
      }
    },
    {
      "cell_type": "code",
      "source": [
        "C = np.ones((3,2))\n",
        "C"
      ],
      "metadata": {
        "colab": {
          "base_uri": "https://localhost:8080/"
        },
        "id": "yFcafjqQ-u4C",
        "outputId": "046cc57d-0658-4c01-9518-8a2f3a36cbd8"
      },
      "execution_count": 7,
      "outputs": [
        {
          "output_type": "execute_result",
          "data": {
            "text/plain": [
              "array([[1., 1.],\n",
              "       [1., 1.],\n",
              "       [1., 1.]])"
            ]
          },
          "metadata": {},
          "execution_count": 7
        }
      ]
    },
    {
      "cell_type": "code",
      "source": [
        "A + C"
      ],
      "metadata": {
        "colab": {
          "base_uri": "https://localhost:8080/"
        },
        "id": "qU5ylIRH_3Uk",
        "outputId": "90cfa9bb-14b4-4ff8-bf4b-c97a2b4fe52a"
      },
      "execution_count": 8,
      "outputs": [
        {
          "output_type": "execute_result",
          "data": {
            "text/plain": [
              "array([[2., 3.],\n",
              "       [4., 5.],\n",
              "       [6., 7.]])"
            ]
          },
          "metadata": {},
          "execution_count": 8
        }
      ]
    },
    {
      "cell_type": "markdown",
      "source": [
        "## Produit matriciel\n",
        "\n",
        "Soient les matrices $A$ de dimension $2 \\times 2$ et $B$ de dimension $2 \\times 3$ :\n",
        "$$\n",
        "A = \\begin{pmatrix}\n",
        "a_{11} & a_{12} \\\\\n",
        "a_{21} & a_{22}\n",
        "\\end{pmatrix}, \\quad\n",
        "B = \\begin{pmatrix}\n",
        "b_{11} & b_{12} & b_{13} \\\\\n",
        "b_{21} & b_{22} & b_{23}\n",
        "\\end{pmatrix}\n",
        "$$\n",
        "\n",
        "Le produit matriciel de $A$ et $B$, noté $AB$, est donné par :\n",
        "$$\n",
        "AB = \\begin{pmatrix}\n",
        "a_{11}b_{11} + a_{12}b_{21} & a_{11}b_{12} + a_{12}b_{22} & a_{11}b_{13} + a_{12}b_{23} \\\\\n",
        "a_{21}b_{11} + a_{22}b_{21} & a_{21}b_{12} + a_{22}b_{22} & a_{21}b_{13} + a_{22}b_{23}\n",
        "\\end{pmatrix}\n",
        "$$\n"
      ],
      "metadata": {
        "id": "HvqSU7_WApaM"
      }
    },
    {
      "cell_type": "code",
      "source": [
        "# A.dot(C)\n",
        "A.dot(B)"
      ],
      "metadata": {
        "colab": {
          "base_uri": "https://localhost:8080/"
        },
        "id": "QtnzTagj_5tt",
        "outputId": "ff9c10f0-d28f-4918-a2bd-480daeec0d37"
      },
      "execution_count": 12,
      "outputs": [
        {
          "output_type": "execute_result",
          "data": {
            "text/plain": [
              "array([[ 5, 11, 17],\n",
              "       [11, 25, 39],\n",
              "       [17, 39, 61]])"
            ]
          },
          "metadata": {},
          "execution_count": 12
        }
      ]
    },
    {
      "cell_type": "code",
      "source": [],
      "metadata": {
        "id": "qFBZUCbVBrED"
      },
      "execution_count": null,
      "outputs": []
    }
  ]
}